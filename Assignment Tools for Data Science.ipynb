pass
{
  "metadata": {
    "language_info": {
      "codemirror_mode": {
        "name": "python",
        "version": 3
      },
      "file_extension": ".py",
      "mimetype": "text/x-python",
      "name": "python",
      "nbconvert_exporter": "python",
      "pygments_lexer": "ipython3",
      "version": "3.8"
    },
    "kernelspec": {
      "name": "python",
      "display_name": "Python (Pyodide)",
      "language": "python"
    }
  },
  "nbformat_minor": 4,
  "nbformat": 4,
  "cells": [
    {
      "cell_type": "markdown",
      "source": "<H1> My Jupyter Notebook on IBM Watson Studio </H1>\n",
      "metadata": {}
    },
    {
      "cell_type": "markdown",
      "source": "<B> Ayan Chakraborty </B>\n<P> Data Engineer </P>",
      "metadata": {}
    },
    {
      "cell_type": "markdown",
      "source": "\n<P><I> I am interested in data science because, I want to combine the power of AI/ML with the business requirements, to create powerful solutions and provide deep insights into issues an organization needs to solve or discover underlying patterns to discover new potential insights</I></P>",
      "metadata": {}
    },
    {
      "cell_type": "markdown",
      "source": "<H3> The Following Code will generate a random integer between 1 and 100 </H3>",
      "metadata": {}
    },
    {
      "cell_type": "code",
      "source": "import random\n\nRandom_int = random.randint(1,100)\n\nprint(Random_int)",
      "metadata": {
        "trusted": true
      },
      "execution_count": 7,
      "outputs": [
        {
          "name": "stdout",
          "text": "23\n",
          "output_type": "stream"
        }
      ]
    },
    {
      "cell_type": "markdown",
      "source": "",
      "metadata": {}
    },
    {
      "cell_type": "markdown",
      "source": "<P> Expected to learn </P>\n--------------------------------------------------------------------------------------------------------------------------------------------------------\n<P>1.AI- ML/DL </P>\n<P>2.Cloud </P>\n<P>3.Data Analytics </P>\n<P>4.IoT </P>\n--------------------------------------------------------------------------------------------------------------------------------------------------------\n",
      "metadata": {}
    },
    {
      "cell_type": "code",
      "source": "Strikethrough uses two tildes. ~~Scratch this.~~",
      "metadata": {},
      "execution_count": null,
      "outputs": []
    },
    {
      "cell_type": "code",
      "source": "",
      "metadata": {},
      "execution_count": null,
      "outputs": []
    }
  ]
}
